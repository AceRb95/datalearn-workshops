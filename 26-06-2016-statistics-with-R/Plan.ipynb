{
 "cells": [
  {
   "cell_type": "markdown",
   "metadata": {},
   "source": [
    "Probability\n",
    "\n",
    "Bayes\n",
    "\n",
    "Hypothesis Testing\n",
    "\n",
    "Measures of Distributions\n",
    "\n",
    "Distributions\n",
    "\n",
    "CLT"
   ]
  },
  {
   "cell_type": "code",
   "execution_count": null,
   "metadata": {
    "collapsed": true
   },
   "outputs": [],
   "source": [
    "install.packages(c('prob', 'tigerstats', 'vioplot', 'lattice', 'e1071', 'IPSUR', 'HH'))"
   ]
  }
 ],
 "metadata": {
  "kernelspec": {
   "display_name": "R",
   "language": "R",
   "name": "ir"
  },
  "language_info": {
   "codemirror_mode": "r",
   "file_extension": ".r",
   "mimetype": "text/x-r-source",
   "name": "R",
   "pygments_lexer": "r",
   "version": "3.2.3"
  }
 },
 "nbformat": 4,
 "nbformat_minor": 0
}
