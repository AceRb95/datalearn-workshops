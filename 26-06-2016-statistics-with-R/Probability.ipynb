{
 "cells": [
  {
   "cell_type": "code",
   "execution_count": 2,
   "metadata": {
    "collapsed": false
   },
   "outputs": [],
   "source": [
    "require(prob)"
   ]
  },
  {
   "cell_type": "code",
   "execution_count": 3,
   "metadata": {
    "collapsed": false
   },
   "outputs": [
    {
     "data": {
      "text/html": [
       "<table>\n",
       "<thead><tr><th></th><th scope=col>toss1</th><th scope=col>toss2</th><th scope=col>toss3</th></tr></thead>\n",
       "<tbody>\n",
       "\t<tr><th scope=row>1</th><td>H</td><td>H</td><td>H</td></tr>\n",
       "\t<tr><th scope=row>2</th><td>T</td><td>H</td><td>H</td></tr>\n",
       "\t<tr><th scope=row>3</th><td>H</td><td>T</td><td>H</td></tr>\n",
       "\t<tr><th scope=row>4</th><td>T</td><td>T</td><td>H</td></tr>\n",
       "\t<tr><th scope=row>5</th><td>H</td><td>H</td><td>T</td></tr>\n",
       "\t<tr><th scope=row>6</th><td>T</td><td>H</td><td>T</td></tr>\n",
       "\t<tr><th scope=row>7</th><td>H</td><td>T</td><td>T</td></tr>\n",
       "\t<tr><th scope=row>8</th><td>T</td><td>T</td><td>T</td></tr>\n",
       "</tbody>\n",
       "</table>\n"
      ],
      "text/latex": [
       "\\begin{tabular}{r|lll}\n",
       "  & toss1 & toss2 & toss3\\\\\n",
       "\\hline\n",
       "\t1 & H & H & H\\\\\n",
       "\t2 & T & H & H\\\\\n",
       "\t3 & H & T & H\\\\\n",
       "\t4 & T & T & H\\\\\n",
       "\t5 & H & H & T\\\\\n",
       "\t6 & T & H & T\\\\\n",
       "\t7 & H & T & T\\\\\n",
       "\t8 & T & T & T\\\\\n",
       "\\end{tabular}\n"
      ],
      "text/plain": [
       "  toss1 toss2 toss3\n",
       "1     H     H     H\n",
       "2     T     H     H\n",
       "3     H     T     H\n",
       "4     T     T     H\n",
       "5     H     H     T\n",
       "6     T     H     T\n",
       "7     H     T     T\n",
       "8     T     T     T"
      ]
     },
     "execution_count": 3,
     "metadata": {},
     "output_type": "execute_result"
    }
   ],
   "source": [
    "tosscoin(3)"
   ]
  },
  {
   "cell_type": "code",
   "execution_count": 4,
   "metadata": {
    "collapsed": false
   },
   "outputs": [
    {
     "data": {
      "text/html": [
       "<table>\n",
       "<thead><tr><th></th><th scope=col>X1</th></tr></thead>\n",
       "<tbody>\n",
       "\t<tr><th scope=row>1</th><td>1</td></tr>\n",
       "\t<tr><th scope=row>2</th><td>2</td></tr>\n",
       "\t<tr><th scope=row>3</th><td>3</td></tr>\n",
       "\t<tr><th scope=row>4</th><td>4</td></tr>\n",
       "\t<tr><th scope=row>5</th><td>5</td></tr>\n",
       "\t<tr><th scope=row>6</th><td>6</td></tr>\n",
       "</tbody>\n",
       "</table>\n"
      ],
      "text/latex": [
       "\\begin{tabular}{r|l}\n",
       "  & X1\\\\\n",
       "\\hline\n",
       "\t1 & 1\\\\\n",
       "\t2 & 2\\\\\n",
       "\t3 & 3\\\\\n",
       "\t4 & 4\\\\\n",
       "\t5 & 5\\\\\n",
       "\t6 & 6\\\\\n",
       "\\end{tabular}\n"
      ],
      "text/plain": [
       "  X1\n",
       "1  1\n",
       "2  2\n",
       "3  3\n",
       "4  4\n",
       "5  5\n",
       "6  6"
      ]
     },
     "execution_count": 4,
     "metadata": {},
     "output_type": "execute_result"
    }
   ],
   "source": [
    "rolldie(1)"
   ]
  },
  {
   "cell_type": "code",
   "execution_count": 5,
   "metadata": {
    "collapsed": false
   },
   "outputs": [
    {
     "data": {
      "text/html": [
       "<table>\n",
       "<thead><tr><th></th><th scope=col>rank</th><th scope=col>suit</th></tr></thead>\n",
       "<tbody>\n",
       "\t<tr><th scope=row>1</th><td>2</td><td>Club</td></tr>\n",
       "\t<tr><th scope=row>2</th><td>3</td><td>Club</td></tr>\n",
       "\t<tr><th scope=row>3</th><td>4</td><td>Club</td></tr>\n",
       "\t<tr><th scope=row>4</th><td>5</td><td>Club</td></tr>\n",
       "\t<tr><th scope=row>5</th><td>6</td><td>Club</td></tr>\n",
       "\t<tr><th scope=row>6</th><td>7</td><td>Club</td></tr>\n",
       "</tbody>\n",
       "</table>\n"
      ],
      "text/latex": [
       "\\begin{tabular}{r|ll}\n",
       "  & rank & suit\\\\\n",
       "\\hline\n",
       "\t1 & 2 & Club\\\\\n",
       "\t2 & 3 & Club\\\\\n",
       "\t3 & 4 & Club\\\\\n",
       "\t4 & 5 & Club\\\\\n",
       "\t5 & 6 & Club\\\\\n",
       "\t6 & 7 & Club\\\\\n",
       "\\end{tabular}\n"
      ],
      "text/plain": [
       "  rank suit\n",
       "1    2 Club\n",
       "2    3 Club\n",
       "3    4 Club\n",
       "4    5 Club\n",
       "5    6 Club\n",
       "6    7 Club"
      ]
     },
     "execution_count": 5,
     "metadata": {},
     "output_type": "execute_result"
    }
   ],
   "source": [
    "head(cards())"
   ]
  },
  {
   "cell_type": "code",
   "execution_count": 6,
   "metadata": {
    "collapsed": false
   },
   "outputs": [
    {
     "data": {
      "text/html": [
       "<table>\n",
       "<thead><tr><th></th><th scope=col>X1</th><th scope=col>X2</th></tr></thead>\n",
       "<tbody>\n",
       "\t<tr><th scope=row>1</th><td>1</td><td>1</td></tr>\n",
       "\t<tr><th scope=row>2</th><td>2</td><td>1</td></tr>\n",
       "\t<tr><th scope=row>3</th><td>3</td><td>1</td></tr>\n",
       "\t<tr><th scope=row>4</th><td>1</td><td>2</td></tr>\n",
       "\t<tr><th scope=row>5</th><td>2</td><td>2</td></tr>\n",
       "\t<tr><th scope=row>6</th><td>3</td><td>2</td></tr>\n",
       "\t<tr><th scope=row>7</th><td>1</td><td>3</td></tr>\n",
       "\t<tr><th scope=row>8</th><td>2</td><td>3</td></tr>\n",
       "\t<tr><th scope=row>9</th><td>3</td><td>3</td></tr>\n",
       "</tbody>\n",
       "</table>\n"
      ],
      "text/latex": [
       "\\begin{tabular}{r|ll}\n",
       "  & X1 & X2\\\\\n",
       "\\hline\n",
       "\t1 & 1 & 1\\\\\n",
       "\t2 & 2 & 1\\\\\n",
       "\t3 & 3 & 1\\\\\n",
       "\t4 & 1 & 2\\\\\n",
       "\t5 & 2 & 2\\\\\n",
       "\t6 & 3 & 2\\\\\n",
       "\t7 & 1 & 3\\\\\n",
       "\t8 & 2 & 3\\\\\n",
       "\t9 & 3 & 3\\\\\n",
       "\\end{tabular}\n"
      ],
      "text/plain": [
       "  X1 X2\n",
       "1  1  1\n",
       "2  2  1\n",
       "3  3  1\n",
       "4  1  2\n",
       "5  2  2\n",
       "6  3  2\n",
       "7  1  3\n",
       "8  2  3\n",
       "9  3  3"
      ]
     },
     "execution_count": 6,
     "metadata": {},
     "output_type": "execute_result"
    }
   ],
   "source": [
    " urnsamples(1:3, size = 2, replace = TRUE, ordered = TRUE) # assumes distinguishable elements"
   ]
  },
  {
   "cell_type": "markdown",
   "metadata": {},
   "source": [
    "# Event Space"
   ]
  },
  {
   "cell_type": "code",
   "execution_count": 7,
   "metadata": {
    "collapsed": false
   },
   "outputs": [
    {
     "data": {
      "text/html": [
       "<table>\n",
       "<thead><tr><th></th><th scope=col>toss1</th><th scope=col>toss2</th><th scope=col>probs</th></tr></thead>\n",
       "<tbody>\n",
       "\t<tr><th scope=row>1</th><td>H</td><td>H</td><td>0.25</td></tr>\n",
       "\t<tr><th scope=row>2</th><td>T</td><td>H</td><td>0.25</td></tr>\n",
       "\t<tr><th scope=row>3</th><td>H</td><td>T</td><td>0.25</td></tr>\n",
       "\t<tr><th scope=row>4</th><td>T</td><td>T</td><td>0.25</td></tr>\n",
       "</tbody>\n",
       "</table>\n"
      ],
      "text/latex": [
       "\\begin{tabular}{r|lll}\n",
       "  & toss1 & toss2 & probs\\\\\n",
       "\\hline\n",
       "\t1 & H & H & 0.25\\\\\n",
       "\t2 & T & H & 0.25\\\\\n",
       "\t3 & H & T & 0.25\\\\\n",
       "\t4 & T & T & 0.25\\\\\n",
       "\\end{tabular}\n"
      ],
      "text/plain": [
       "  toss1 toss2 probs\n",
       "1     H     H  0.25\n",
       "2     T     H  0.25\n",
       "3     H     T  0.25\n",
       "4     T     T  0.25"
      ]
     },
     "execution_count": 7,
     "metadata": {},
     "output_type": "execute_result"
    }
   ],
   "source": [
    "tosscoin(2, makespace = TRUE)"
   ]
  },
  {
   "cell_type": "markdown",
   "metadata": {},
   "source": [
    "# Set Operations"
   ]
  },
  {
   "cell_type": "code",
   "execution_count": 27,
   "metadata": {
    "collapsed": true
   },
   "outputs": [],
   "source": [
    "S = cards()\n",
    "A = subset(S, suit == \"Heart\")\n",
    "B = subset(S, rank %in% 7:8)"
   ]
  },
  {
   "cell_type": "code",
   "execution_count": 28,
   "metadata": {
    "collapsed": false
   },
   "outputs": [
    {
     "data": {
      "text/html": [
       "<table>\n",
       "<thead><tr><th></th><th scope=col>rank</th><th scope=col>suit</th></tr></thead>\n",
       "<tbody>\n",
       "\t<tr><th scope=row>1</th><td>2</td><td>Club</td></tr>\n",
       "\t<tr><th scope=row>2</th><td>3</td><td>Club</td></tr>\n",
       "\t<tr><th scope=row>3</th><td>4</td><td>Club</td></tr>\n",
       "\t<tr><th scope=row>4</th><td>5</td><td>Club</td></tr>\n",
       "\t<tr><th scope=row>5</th><td>6</td><td>Club</td></tr>\n",
       "\t<tr><th scope=row>6</th><td>7</td><td>Club</td></tr>\n",
       "\t<tr><th scope=row>7</th><td>8</td><td>Club</td></tr>\n",
       "\t<tr><th scope=row>8</th><td>9</td><td>Club</td></tr>\n",
       "\t<tr><th scope=row>9</th><td>10</td><td>Club</td></tr>\n",
       "\t<tr><th scope=row>10</th><td>J</td><td>Club</td></tr>\n",
       "\t<tr><th scope=row>11</th><td>Q</td><td>Club</td></tr>\n",
       "\t<tr><th scope=row>12</th><td>K</td><td>Club</td></tr>\n",
       "\t<tr><th scope=row>13</th><td>A</td><td>Club</td></tr>\n",
       "\t<tr><th scope=row>14</th><td>2</td><td>Diamond</td></tr>\n",
       "\t<tr><th scope=row>15</th><td>3</td><td>Diamond</td></tr>\n",
       "\t<tr><th scope=row>16</th><td>4</td><td>Diamond</td></tr>\n",
       "\t<tr><th scope=row>17</th><td>5</td><td>Diamond</td></tr>\n",
       "\t<tr><th scope=row>18</th><td>6</td><td>Diamond</td></tr>\n",
       "\t<tr><th scope=row>19</th><td>7</td><td>Diamond</td></tr>\n",
       "\t<tr><th scope=row>20</th><td>8</td><td>Diamond</td></tr>\n",
       "\t<tr><th scope=row>21</th><td>9</td><td>Diamond</td></tr>\n",
       "\t<tr><th scope=row>22</th><td>10</td><td>Diamond</td></tr>\n",
       "\t<tr><th scope=row>23</th><td>J</td><td>Diamond</td></tr>\n",
       "\t<tr><th scope=row>24</th><td>Q</td><td>Diamond</td></tr>\n",
       "\t<tr><th scope=row>25</th><td>K</td><td>Diamond</td></tr>\n",
       "\t<tr><th scope=row>26</th><td>A</td><td>Diamond</td></tr>\n",
       "\t<tr><th scope=row>27</th><td>2</td><td>Heart</td></tr>\n",
       "\t<tr><th scope=row>28</th><td>3</td><td>Heart</td></tr>\n",
       "\t<tr><th scope=row>29</th><td>4</td><td>Heart</td></tr>\n",
       "\t<tr><th scope=row>30</th><td>5</td><td>Heart</td></tr>\n",
       "\t<tr><th scope=row>31</th><td>6</td><td>Heart</td></tr>\n",
       "\t<tr><th scope=row>32</th><td>7</td><td>Heart</td></tr>\n",
       "\t<tr><th scope=row>33</th><td>8</td><td>Heart</td></tr>\n",
       "\t<tr><th scope=row>34</th><td>9</td><td>Heart</td></tr>\n",
       "\t<tr><th scope=row>35</th><td>10</td><td>Heart</td></tr>\n",
       "\t<tr><th scope=row>36</th><td>J</td><td>Heart</td></tr>\n",
       "\t<tr><th scope=row>37</th><td>Q</td><td>Heart</td></tr>\n",
       "\t<tr><th scope=row>38</th><td>K</td><td>Heart</td></tr>\n",
       "\t<tr><th scope=row>39</th><td>A</td><td>Heart</td></tr>\n",
       "\t<tr><th scope=row>40</th><td>2</td><td>Spade</td></tr>\n",
       "\t<tr><th scope=row>41</th><td>3</td><td>Spade</td></tr>\n",
       "\t<tr><th scope=row>42</th><td>4</td><td>Spade</td></tr>\n",
       "\t<tr><th scope=row>43</th><td>5</td><td>Spade</td></tr>\n",
       "\t<tr><th scope=row>44</th><td>6</td><td>Spade</td></tr>\n",
       "\t<tr><th scope=row>45</th><td>7</td><td>Spade</td></tr>\n",
       "\t<tr><th scope=row>46</th><td>8</td><td>Spade</td></tr>\n",
       "\t<tr><th scope=row>47</th><td>9</td><td>Spade</td></tr>\n",
       "\t<tr><th scope=row>48</th><td>10</td><td>Spade</td></tr>\n",
       "\t<tr><th scope=row>49</th><td>J</td><td>Spade</td></tr>\n",
       "\t<tr><th scope=row>50</th><td>Q</td><td>Spade</td></tr>\n",
       "\t<tr><th scope=row>51</th><td>K</td><td>Spade</td></tr>\n",
       "\t<tr><th scope=row>52</th><td>A</td><td>Spade</td></tr>\n",
       "</tbody>\n",
       "</table>\n"
      ],
      "text/latex": [
       "\\begin{tabular}{r|ll}\n",
       "  & rank & suit\\\\\n",
       "\\hline\n",
       "\t1 & 2 & Club\\\\\n",
       "\t2 & 3 & Club\\\\\n",
       "\t3 & 4 & Club\\\\\n",
       "\t4 & 5 & Club\\\\\n",
       "\t5 & 6 & Club\\\\\n",
       "\t6 & 7 & Club\\\\\n",
       "\t7 & 8 & Club\\\\\n",
       "\t8 & 9 & Club\\\\\n",
       "\t9 & 10 & Club\\\\\n",
       "\t10 & J & Club\\\\\n",
       "\t11 & Q & Club\\\\\n",
       "\t12 & K & Club\\\\\n",
       "\t13 & A & Club\\\\\n",
       "\t14 & 2 & Diamond\\\\\n",
       "\t15 & 3 & Diamond\\\\\n",
       "\t16 & 4 & Diamond\\\\\n",
       "\t17 & 5 & Diamond\\\\\n",
       "\t18 & 6 & Diamond\\\\\n",
       "\t19 & 7 & Diamond\\\\\n",
       "\t20 & 8 & Diamond\\\\\n",
       "\t21 & 9 & Diamond\\\\\n",
       "\t22 & 10 & Diamond\\\\\n",
       "\t23 & J & Diamond\\\\\n",
       "\t24 & Q & Diamond\\\\\n",
       "\t25 & K & Diamond\\\\\n",
       "\t26 & A & Diamond\\\\\n",
       "\t27 & 2 & Heart\\\\\n",
       "\t28 & 3 & Heart\\\\\n",
       "\t29 & 4 & Heart\\\\\n",
       "\t30 & 5 & Heart\\\\\n",
       "\t31 & 6 & Heart\\\\\n",
       "\t32 & 7 & Heart\\\\\n",
       "\t33 & 8 & Heart\\\\\n",
       "\t34 & 9 & Heart\\\\\n",
       "\t35 & 10 & Heart\\\\\n",
       "\t36 & J & Heart\\\\\n",
       "\t37 & Q & Heart\\\\\n",
       "\t38 & K & Heart\\\\\n",
       "\t39 & A & Heart\\\\\n",
       "\t40 & 2 & Spade\\\\\n",
       "\t41 & 3 & Spade\\\\\n",
       "\t42 & 4 & Spade\\\\\n",
       "\t43 & 5 & Spade\\\\\n",
       "\t44 & 6 & Spade\\\\\n",
       "\t45 & 7 & Spade\\\\\n",
       "\t46 & 8 & Spade\\\\\n",
       "\t47 & 9 & Spade\\\\\n",
       "\t48 & 10 & Spade\\\\\n",
       "\t49 & J & Spade\\\\\n",
       "\t50 & Q & Spade\\\\\n",
       "\t51 & K & Spade\\\\\n",
       "\t52 & A & Spade\\\\\n",
       "\\end{tabular}\n"
      ],
      "text/plain": [
       "   rank    suit\n",
       "1     2    Club\n",
       "2     3    Club\n",
       "3     4    Club\n",
       "4     5    Club\n",
       "5     6    Club\n",
       "6     7    Club\n",
       "7     8    Club\n",
       "8     9    Club\n",
       "9    10    Club\n",
       "10    J    Club\n",
       "11    Q    Club\n",
       "12    K    Club\n",
       "13    A    Club\n",
       "14    2 Diamond\n",
       "15    3 Diamond\n",
       "16    4 Diamond\n",
       "17    5 Diamond\n",
       "18    6 Diamond\n",
       "19    7 Diamond\n",
       "20    8 Diamond\n",
       "21    9 Diamond\n",
       "22   10 Diamond\n",
       "23    J Diamond\n",
       "24    Q Diamond\n",
       "25    K Diamond\n",
       "26    A Diamond\n",
       "27    2   Heart\n",
       "28    3   Heart\n",
       "29    4   Heart\n",
       "30    5   Heart\n",
       "31    6   Heart\n",
       "32    7   Heart\n",
       "33    8   Heart\n",
       "34    9   Heart\n",
       "35   10   Heart\n",
       "36    J   Heart\n",
       "37    Q   Heart\n",
       "38    K   Heart\n",
       "39    A   Heart\n",
       "40    2   Spade\n",
       "41    3   Spade\n",
       "42    4   Spade\n",
       "43    5   Spade\n",
       "44    6   Spade\n",
       "45    7   Spade\n",
       "46    8   Spade\n",
       "47    9   Spade\n",
       "48   10   Spade\n",
       "49    J   Spade\n",
       "50    Q   Spade\n",
       "51    K   Spade\n",
       "52    A   Spade"
      ]
     },
     "execution_count": 28,
     "metadata": {},
     "output_type": "execute_result"
    }
   ],
   "source": [
    "S"
   ]
  },
  {
   "cell_type": "code",
   "execution_count": 11,
   "metadata": {
    "collapsed": false
   },
   "outputs": [
    {
     "data": {
      "text/html": [
       "<table>\n",
       "<thead><tr><th></th><th scope=col>rank</th><th scope=col>suit</th></tr></thead>\n",
       "<tbody>\n",
       "\t<tr><th scope=row>6</th><td>7</td><td>Club</td></tr>\n",
       "\t<tr><th scope=row>7</th><td>8</td><td>Club</td></tr>\n",
       "\t<tr><th scope=row>19</th><td>7</td><td>Diamond</td></tr>\n",
       "\t<tr><th scope=row>20</th><td>8</td><td>Diamond</td></tr>\n",
       "\t<tr><th scope=row>27</th><td>2</td><td>Heart</td></tr>\n",
       "\t<tr><th scope=row>28</th><td>3</td><td>Heart</td></tr>\n",
       "\t<tr><th scope=row>29</th><td>4</td><td>Heart</td></tr>\n",
       "\t<tr><th scope=row>30</th><td>5</td><td>Heart</td></tr>\n",
       "\t<tr><th scope=row>31</th><td>6</td><td>Heart</td></tr>\n",
       "\t<tr><th scope=row>32</th><td>7</td><td>Heart</td></tr>\n",
       "\t<tr><th scope=row>33</th><td>8</td><td>Heart</td></tr>\n",
       "\t<tr><th scope=row>34</th><td>9</td><td>Heart</td></tr>\n",
       "\t<tr><th scope=row>35</th><td>10</td><td>Heart</td></tr>\n",
       "\t<tr><th scope=row>36</th><td>J</td><td>Heart</td></tr>\n",
       "\t<tr><th scope=row>37</th><td>Q</td><td>Heart</td></tr>\n",
       "\t<tr><th scope=row>38</th><td>K</td><td>Heart</td></tr>\n",
       "\t<tr><th scope=row>39</th><td>A</td><td>Heart</td></tr>\n",
       "\t<tr><th scope=row>45</th><td>7</td><td>Spade</td></tr>\n",
       "\t<tr><th scope=row>46</th><td>8</td><td>Spade</td></tr>\n",
       "</tbody>\n",
       "</table>\n"
      ],
      "text/latex": [
       "\\begin{tabular}{r|ll}\n",
       "  & rank & suit\\\\\n",
       "\\hline\n",
       "\t6 & 7 & Club\\\\\n",
       "\t7 & 8 & Club\\\\\n",
       "\t19 & 7 & Diamond\\\\\n",
       "\t20 & 8 & Diamond\\\\\n",
       "\t27 & 2 & Heart\\\\\n",
       "\t28 & 3 & Heart\\\\\n",
       "\t29 & 4 & Heart\\\\\n",
       "\t30 & 5 & Heart\\\\\n",
       "\t31 & 6 & Heart\\\\\n",
       "\t32 & 7 & Heart\\\\\n",
       "\t33 & 8 & Heart\\\\\n",
       "\t34 & 9 & Heart\\\\\n",
       "\t35 & 10 & Heart\\\\\n",
       "\t36 & J & Heart\\\\\n",
       "\t37 & Q & Heart\\\\\n",
       "\t38 & K & Heart\\\\\n",
       "\t39 & A & Heart\\\\\n",
       "\t45 & 7 & Spade\\\\\n",
       "\t46 & 8 & Spade\\\\\n",
       "\\end{tabular}\n"
      ],
      "text/plain": [
       "   rank    suit\n",
       "6     7    Club\n",
       "7     8    Club\n",
       "19    7 Diamond\n",
       "20    8 Diamond\n",
       "27    2   Heart\n",
       "28    3   Heart\n",
       "29    4   Heart\n",
       "30    5   Heart\n",
       "31    6   Heart\n",
       "32    7   Heart\n",
       "33    8   Heart\n",
       "34    9   Heart\n",
       "35   10   Heart\n",
       "36    J   Heart\n",
       "37    Q   Heart\n",
       "38    K   Heart\n",
       "39    A   Heart\n",
       "45    7   Spade\n",
       "46    8   Spade"
      ]
     },
     "execution_count": 11,
     "metadata": {},
     "output_type": "execute_result"
    }
   ],
   "source": [
    "union(A, B)"
   ]
  },
  {
   "cell_type": "code",
   "execution_count": 12,
   "metadata": {
    "collapsed": false
   },
   "outputs": [
    {
     "data": {
      "text/html": [
       "<table>\n",
       "<thead><tr><th></th><th scope=col>rank</th><th scope=col>suit</th></tr></thead>\n",
       "<tbody>\n",
       "\t<tr><th scope=row>32</th><td>7</td><td>Heart</td></tr>\n",
       "\t<tr><th scope=row>33</th><td>8</td><td>Heart</td></tr>\n",
       "</tbody>\n",
       "</table>\n"
      ],
      "text/latex": [
       "\\begin{tabular}{r|ll}\n",
       "  & rank & suit\\\\\n",
       "\\hline\n",
       "\t32 & 7 & Heart\\\\\n",
       "\t33 & 8 & Heart\\\\\n",
       "\\end{tabular}\n"
      ],
      "text/plain": [
       "   rank  suit\n",
       "32    7 Heart\n",
       "33    8 Heart"
      ]
     },
     "execution_count": 12,
     "metadata": {},
     "output_type": "execute_result"
    }
   ],
   "source": [
    "intersect(A, B)"
   ]
  },
  {
   "cell_type": "code",
   "execution_count": 13,
   "metadata": {
    "collapsed": false
   },
   "outputs": [
    {
     "data": {
      "text/html": [
       "<table>\n",
       "<thead><tr><th></th><th scope=col>rank</th><th scope=col>suit</th></tr></thead>\n",
       "<tbody>\n",
       "\t<tr><th scope=row>27</th><td>2</td><td>Heart</td></tr>\n",
       "\t<tr><th scope=row>28</th><td>3</td><td>Heart</td></tr>\n",
       "\t<tr><th scope=row>29</th><td>4</td><td>Heart</td></tr>\n",
       "\t<tr><th scope=row>30</th><td>5</td><td>Heart</td></tr>\n",
       "\t<tr><th scope=row>31</th><td>6</td><td>Heart</td></tr>\n",
       "\t<tr><th scope=row>34</th><td>9</td><td>Heart</td></tr>\n",
       "\t<tr><th scope=row>35</th><td>10</td><td>Heart</td></tr>\n",
       "\t<tr><th scope=row>36</th><td>J</td><td>Heart</td></tr>\n",
       "\t<tr><th scope=row>37</th><td>Q</td><td>Heart</td></tr>\n",
       "\t<tr><th scope=row>38</th><td>K</td><td>Heart</td></tr>\n",
       "\t<tr><th scope=row>39</th><td>A</td><td>Heart</td></tr>\n",
       "</tbody>\n",
       "</table>\n"
      ],
      "text/latex": [
       "\\begin{tabular}{r|ll}\n",
       "  & rank & suit\\\\\n",
       "\\hline\n",
       "\t27 & 2 & Heart\\\\\n",
       "\t28 & 3 & Heart\\\\\n",
       "\t29 & 4 & Heart\\\\\n",
       "\t30 & 5 & Heart\\\\\n",
       "\t31 & 6 & Heart\\\\\n",
       "\t34 & 9 & Heart\\\\\n",
       "\t35 & 10 & Heart\\\\\n",
       "\t36 & J & Heart\\\\\n",
       "\t37 & Q & Heart\\\\\n",
       "\t38 & K & Heart\\\\\n",
       "\t39 & A & Heart\\\\\n",
       "\\end{tabular}\n"
      ],
      "text/plain": [
       "   rank  suit\n",
       "27    2 Heart\n",
       "28    3 Heart\n",
       "29    4 Heart\n",
       "30    5 Heart\n",
       "31    6 Heart\n",
       "34    9 Heart\n",
       "35   10 Heart\n",
       "36    J Heart\n",
       "37    Q Heart\n",
       "38    K Heart\n",
       "39    A Heart"
      ]
     },
     "execution_count": 13,
     "metadata": {},
     "output_type": "execute_result"
    },
    {
     "data": {
      "text/html": [
       "<table>\n",
       "<thead><tr><th></th><th scope=col>rank</th><th scope=col>suit</th></tr></thead>\n",
       "<tbody>\n",
       "\t<tr><th scope=row>6</th><td>7</td><td>Club</td></tr>\n",
       "\t<tr><th scope=row>7</th><td>8</td><td>Club</td></tr>\n",
       "\t<tr><th scope=row>19</th><td>7</td><td>Diamond</td></tr>\n",
       "\t<tr><th scope=row>20</th><td>8</td><td>Diamond</td></tr>\n",
       "\t<tr><th scope=row>45</th><td>7</td><td>Spade</td></tr>\n",
       "\t<tr><th scope=row>46</th><td>8</td><td>Spade</td></tr>\n",
       "</tbody>\n",
       "</table>\n"
      ],
      "text/latex": [
       "\\begin{tabular}{r|ll}\n",
       "  & rank & suit\\\\\n",
       "\\hline\n",
       "\t6 & 7 & Club\\\\\n",
       "\t7 & 8 & Club\\\\\n",
       "\t19 & 7 & Diamond\\\\\n",
       "\t20 & 8 & Diamond\\\\\n",
       "\t45 & 7 & Spade\\\\\n",
       "\t46 & 8 & Spade\\\\\n",
       "\\end{tabular}\n"
      ],
      "text/plain": [
       "   rank    suit\n",
       "6     7    Club\n",
       "7     8    Club\n",
       "19    7 Diamond\n",
       "20    8 Diamond\n",
       "45    7   Spade\n",
       "46    8   Spade"
      ]
     },
     "execution_count": 13,
     "metadata": {},
     "output_type": "execute_result"
    }
   ],
   "source": [
    "setdiff(A, B)\n",
    "setdiff(B, A)"
   ]
  },
  {
   "cell_type": "markdown",
   "metadata": {},
   "source": [
    "# Approaches/Theories"
   ]
  },
  {
   "cell_type": "markdown",
   "metadata": {},
   "source": [
    "## The Measure Theory Approach"
   ]
  },
  {
   "cell_type": "markdown",
   "metadata": {},
   "source": [
    "## The Relative Frequency Approach (Frequentist)"
   ]
  },
  {
   "cell_type": "markdown",
   "metadata": {},
   "source": [
    "## The Subjective Approach (Bayesian)"
   ]
  },
  {
   "cell_type": "markdown",
   "metadata": {},
   "source": [
    "# Axioms for Probability Functions -  Kolmogorov Axioms"
   ]
  },
  {
   "cell_type": "markdown",
   "metadata": {},
   "source": [
    "P(A) >= 0"
   ]
  },
  {
   "cell_type": "markdown",
   "metadata": {},
   "source": [
    "P(S) = 1"
   ]
  },
  {
   "cell_type": "markdown",
   "metadata": {},
   "source": [
    "For a sequence of disjoint events (in other words, sets that do not overlap), their total probability (measure) should equal the sum of its parts"
   ]
  },
  {
   "cell_type": "markdown",
   "metadata": {},
   "source": [
    "# Calculating probabilities"
   ]
  },
  {
   "cell_type": "code",
   "execution_count": 16,
   "metadata": {
    "collapsed": false
   },
   "outputs": [
    {
     "data": {
      "text/html": [
       "0.25"
      ],
      "text/latex": [
       "0.25"
      ],
      "text/markdown": [
       "0.25"
      ],
      "text/plain": [
       "[1] 0.25"
      ]
     },
     "execution_count": 16,
     "metadata": {},
     "output_type": "execute_result"
    }
   ],
   "source": [
    "S <- cards(makespace = TRUE)\n",
    "A <- subset(S, suit == \"Heart\")\n",
    "Prob(A)"
   ]
  },
  {
   "cell_type": "code",
   "execution_count": 19,
   "metadata": {
    "collapsed": false
   },
   "outputs": [
    {
     "data": {
      "text/html": [
       "<table>\n",
       "<thead><tr><th></th><th scope=col>X1</th><th scope=col>X2</th><th scope=col>probs</th></tr></thead>\n",
       "<tbody>\n",
       "\t<tr><th scope=row>1</th><td>1</td><td>1</td><td>0.02777778</td></tr>\n",
       "\t<tr><th scope=row>8</th><td>2</td><td>2</td><td>0.02777778</td></tr>\n",
       "\t<tr><th scope=row>15</th><td>3</td><td>3</td><td>0.02777778</td></tr>\n",
       "\t<tr><th scope=row>22</th><td>4</td><td>4</td><td>0.02777778</td></tr>\n",
       "\t<tr><th scope=row>29</th><td>5</td><td>5</td><td>0.02777778</td></tr>\n",
       "\t<tr><th scope=row>36</th><td>6</td><td>6</td><td>0.02777778</td></tr>\n",
       "</tbody>\n",
       "</table>\n"
      ],
      "text/latex": [
       "\\begin{tabular}{r|lll}\n",
       "  & X1 & X2 & probs\\\\\n",
       "\\hline\n",
       "\t1 & 1 & 1 & 0.02777778\\\\\n",
       "\t8 & 2 & 2 & 0.02777778\\\\\n",
       "\t15 & 3 & 3 & 0.02777778\\\\\n",
       "\t22 & 4 & 4 & 0.02777778\\\\\n",
       "\t29 & 5 & 5 & 0.02777778\\\\\n",
       "\t36 & 6 & 6 & 0.02777778\\\\\n",
       "\\end{tabular}\n"
      ],
      "text/plain": [
       "   X1 X2      probs\n",
       "1   1  1 0.02777778\n",
       "8   2  2 0.02777778\n",
       "15  3  3 0.02777778\n",
       "22  4  4 0.02777778\n",
       "29  5  5 0.02777778\n",
       "36  6  6 0.02777778"
      ]
     },
     "execution_count": 19,
     "metadata": {},
     "output_type": "execute_result"
    },
    {
     "data": {
      "text/html": [
       "<table>\n",
       "<thead><tr><th></th><th scope=col>X1</th><th scope=col>X2</th><th scope=col>probs</th></tr></thead>\n",
       "<tbody>\n",
       "\t<tr><th scope=row>12</th><td>6</td><td>2</td><td>0.02777778</td></tr>\n",
       "\t<tr><th scope=row>17</th><td>5</td><td>3</td><td>0.02777778</td></tr>\n",
       "\t<tr><th scope=row>18</th><td>6</td><td>3</td><td>0.02777778</td></tr>\n",
       "\t<tr><th scope=row>22</th><td>4</td><td>4</td><td>0.02777778</td></tr>\n",
       "\t<tr><th scope=row>23</th><td>5</td><td>4</td><td>0.02777778</td></tr>\n",
       "\t<tr><th scope=row>24</th><td>6</td><td>4</td><td>0.02777778</td></tr>\n",
       "\t<tr><th scope=row>27</th><td>3</td><td>5</td><td>0.02777778</td></tr>\n",
       "\t<tr><th scope=row>28</th><td>4</td><td>5</td><td>0.02777778</td></tr>\n",
       "\t<tr><th scope=row>29</th><td>5</td><td>5</td><td>0.02777778</td></tr>\n",
       "\t<tr><th scope=row>30</th><td>6</td><td>5</td><td>0.02777778</td></tr>\n",
       "\t<tr><th scope=row>32</th><td>2</td><td>6</td><td>0.02777778</td></tr>\n",
       "\t<tr><th scope=row>33</th><td>3</td><td>6</td><td>0.02777778</td></tr>\n",
       "\t<tr><th scope=row>34</th><td>4</td><td>6</td><td>0.02777778</td></tr>\n",
       "\t<tr><th scope=row>35</th><td>5</td><td>6</td><td>0.02777778</td></tr>\n",
       "\t<tr><th scope=row>36</th><td>6</td><td>6</td><td>0.02777778</td></tr>\n",
       "</tbody>\n",
       "</table>\n"
      ],
      "text/latex": [
       "\\begin{tabular}{r|lll}\n",
       "  & X1 & X2 & probs\\\\\n",
       "\\hline\n",
       "\t12 & 6 & 2 & 0.02777778\\\\\n",
       "\t17 & 5 & 3 & 0.02777778\\\\\n",
       "\t18 & 6 & 3 & 0.02777778\\\\\n",
       "\t22 & 4 & 4 & 0.02777778\\\\\n",
       "\t23 & 5 & 4 & 0.02777778\\\\\n",
       "\t24 & 6 & 4 & 0.02777778\\\\\n",
       "\t27 & 3 & 5 & 0.02777778\\\\\n",
       "\t28 & 4 & 5 & 0.02777778\\\\\n",
       "\t29 & 5 & 5 & 0.02777778\\\\\n",
       "\t30 & 6 & 5 & 0.02777778\\\\\n",
       "\t32 & 2 & 6 & 0.02777778\\\\\n",
       "\t33 & 3 & 6 & 0.02777778\\\\\n",
       "\t34 & 4 & 6 & 0.02777778\\\\\n",
       "\t35 & 5 & 6 & 0.02777778\\\\\n",
       "\t36 & 6 & 6 & 0.02777778\\\\\n",
       "\\end{tabular}\n"
      ],
      "text/plain": [
       "   X1 X2      probs\n",
       "12  6  2 0.02777778\n",
       "17  5  3 0.02777778\n",
       "18  6  3 0.02777778\n",
       "22  4  4 0.02777778\n",
       "23  5  4 0.02777778\n",
       "24  6  4 0.02777778\n",
       "27  3  5 0.02777778\n",
       "28  4  5 0.02777778\n",
       "29  5  5 0.02777778\n",
       "30  6  5 0.02777778\n",
       "32  2  6 0.02777778\n",
       "33  3  6 0.02777778\n",
       "34  4  6 0.02777778\n",
       "35  5  6 0.02777778\n",
       "36  6  6 0.02777778"
      ]
     },
     "execution_count": 19,
     "metadata": {},
     "output_type": "execute_result"
    },
    {
     "data": {
      "text/html": [
       "0.2"
      ],
      "text/latex": [
       "0.2"
      ],
      "text/markdown": [
       "0.2"
      ],
      "text/plain": [
       "[1] 0.2"
      ]
     },
     "execution_count": 19,
     "metadata": {},
     "output_type": "execute_result"
    }
   ],
   "source": [
    "S <- rolldie(2, makespace = TRUE)\n",
    "A <- subset(S, X1 == X2)\n",
    "B <- subset(S, X1 + X2 >= 8)\n",
    "A\n",
    "B\n",
    "Prob(A, given = B)"
   ]
  },
  {
   "cell_type": "code",
   "execution_count": 22,
   "metadata": {
    "collapsed": false
   },
   "outputs": [
    {
     "data": {
      "text/html": [
       "0.291666666666667"
      ],
      "text/latex": [
       "0.291666666666667"
      ],
      "text/markdown": [
       "0.291666666666667"
      ],
      "text/plain": [
       "[1] 0.2916667"
      ]
     },
     "execution_count": 22,
     "metadata": {},
     "output_type": "execute_result"
    },
    {
     "data": {
      "text/html": [
       "0.175"
      ],
      "text/latex": [
       "0.175"
      ],
      "text/markdown": [
       "0.175"
      ],
      "text/plain": [
       "[1] 0.175"
      ]
     },
     "execution_count": 22,
     "metadata": {},
     "output_type": "execute_result"
    }
   ],
   "source": [
    "L <- rep(c(\"red\", \"green\"), times = c(7, 3))\n",
    "M <- urnsamples(L, size = 3, replace = FALSE, ordered = TRUE)\n",
    "N <- probspace(M)\n",
    "\n",
    "Prob(N, isrep(N, \"red\", 3))\n",
    "\n",
    "Prob(N, isin(N, c(\"red\", \"green\", \"red\"), ordered = TRUE))"
   ]
  },
  {
   "cell_type": "markdown",
   "metadata": {},
   "source": [
    "# Independent Repeated Experiments"
   ]
  },
  {
   "cell_type": "code",
   "execution_count": 23,
   "metadata": {
    "collapsed": false
   },
   "outputs": [
    {
     "data": {
      "text/html": [
       "<table>\n",
       "<thead><tr><th></th><th scope=col>X1</th><th scope=col>X2</th><th scope=col>X3</th><th scope=col>probs</th></tr></thead>\n",
       "<tbody>\n",
       "\t<tr><th scope=row>1</th><td>H</td><td>H</td><td>H</td><td>0.343</td></tr>\n",
       "\t<tr><th scope=row>2</th><td>T</td><td>H</td><td>H</td><td>0.147</td></tr>\n",
       "\t<tr><th scope=row>3</th><td>H</td><td>T</td><td>H</td><td>0.147</td></tr>\n",
       "\t<tr><th scope=row>4</th><td>T</td><td>T</td><td>H</td><td>0.063</td></tr>\n",
       "\t<tr><th scope=row>5</th><td>H</td><td>H</td><td>T</td><td>0.147</td></tr>\n",
       "\t<tr><th scope=row>6</th><td>T</td><td>H</td><td>T</td><td>0.063</td></tr>\n",
       "\t<tr><th scope=row>7</th><td>H</td><td>T</td><td>T</td><td>0.063</td></tr>\n",
       "\t<tr><th scope=row>8</th><td>T</td><td>T</td><td>T</td><td>0.027</td></tr>\n",
       "</tbody>\n",
       "</table>\n"
      ],
      "text/latex": [
       "\\begin{tabular}{r|llll}\n",
       "  & X1 & X2 & X3 & probs\\\\\n",
       "\\hline\n",
       "\t1 & H & H & H & 0.343\\\\\n",
       "\t2 & T & H & H & 0.147\\\\\n",
       "\t3 & H & T & H & 0.147\\\\\n",
       "\t4 & T & T & H & 0.063\\\\\n",
       "\t5 & H & H & T & 0.147\\\\\n",
       "\t6 & T & H & T & 0.063\\\\\n",
       "\t7 & H & T & T & 0.063\\\\\n",
       "\t8 & T & T & T & 0.027\\\\\n",
       "\\end{tabular}\n"
      ],
      "text/plain": [
       "  X1 X2 X3 probs\n",
       "1  H  H  H 0.343\n",
       "2  T  H  H 0.147\n",
       "3  H  T  H 0.147\n",
       "4  T  T  H 0.063\n",
       "5  H  H  T 0.147\n",
       "6  T  H  T 0.063\n",
       "7  H  T  T 0.063\n",
       "8  T  T  T 0.027"
      ]
     },
     "execution_count": 23,
     "metadata": {},
     "output_type": "execute_result"
    }
   ],
   "source": [
    "iidspace(c(\"H\",\"T\"), ntrials = 3, probs = c(0.7, 0.3))"
   ]
  },
  {
   "cell_type": "markdown",
   "metadata": {},
   "source": [
    "Joint Probabilities"
   ]
  },
  {
   "cell_type": "code",
   "execution_count": 25,
   "metadata": {
    "collapsed": false
   },
   "outputs": [
    {
     "data": {
      "text/html": [
       "<table>\n",
       "<thead><tr><th></th><th scope=col>X1</th><th scope=col>X2</th><th scope=col>U</th><th scope=col>V</th><th scope=col>probs</th></tr></thead>\n",
       "<tbody>\n",
       "\t<tr><th scope=row>1</th><td>1</td><td>1</td><td>1</td><td>2</td><td>0.02777778</td></tr>\n",
       "\t<tr><th scope=row>2</th><td>2</td><td>1</td><td>2</td><td>3</td><td>0.02777778</td></tr>\n",
       "\t<tr><th scope=row>3</th><td>3</td><td>1</td><td>3</td><td>4</td><td>0.02777778</td></tr>\n",
       "\t<tr><th scope=row>4</th><td>4</td><td>1</td><td>4</td><td>5</td><td>0.02777778</td></tr>\n",
       "\t<tr><th scope=row>5</th><td>5</td><td>1</td><td>5</td><td>6</td><td>0.02777778</td></tr>\n",
       "\t<tr><th scope=row>6</th><td>6</td><td>1</td><td>6</td><td>7</td><td>0.02777778</td></tr>\n",
       "</tbody>\n",
       "</table>\n"
      ],
      "text/latex": [
       "\\begin{tabular}{r|lllll}\n",
       "  & X1 & X2 & U & V & probs\\\\\n",
       "\\hline\n",
       "\t1 & 1 & 1 & 1 & 2 & 0.02777778\\\\\n",
       "\t2 & 2 & 1 & 2 & 3 & 0.02777778\\\\\n",
       "\t3 & 3 & 1 & 3 & 4 & 0.02777778\\\\\n",
       "\t4 & 4 & 1 & 4 & 5 & 0.02777778\\\\\n",
       "\t5 & 5 & 1 & 5 & 6 & 0.02777778\\\\\n",
       "\t6 & 6 & 1 & 6 & 7 & 0.02777778\\\\\n",
       "\\end{tabular}\n"
      ],
      "text/plain": [
       "  X1 X2 U V      probs\n",
       "1  1  1 1 2 0.02777778\n",
       "2  2  1 2 3 0.02777778\n",
       "3  3  1 3 4 0.02777778\n",
       "4  4  1 4 5 0.02777778\n",
       "5  5  1 5 6 0.02777778\n",
       "6  6  1 6 7 0.02777778"
      ]
     },
     "execution_count": 25,
     "metadata": {},
     "output_type": "execute_result"
    },
    {
     "data": {
      "text/plain": [
       "   V\n",
       "U       2     3     4     5     6     7     8     9    10    11    12\n",
       "  1 0.028 0.000 0.000 0.000 0.000 0.000 0.000 0.000 0.000 0.000 0.000\n",
       "  2 0.000 0.056 0.028 0.000 0.000 0.000 0.000 0.000 0.000 0.000 0.000\n",
       "  3 0.000 0.000 0.056 0.056 0.028 0.000 0.000 0.000 0.000 0.000 0.000\n",
       "  4 0.000 0.000 0.000 0.056 0.056 0.056 0.028 0.000 0.000 0.000 0.000\n",
       "  5 0.000 0.000 0.000 0.000 0.056 0.056 0.056 0.056 0.028 0.000 0.000\n",
       "  6 0.000 0.000 0.000 0.000 0.000 0.056 0.056 0.056 0.056 0.056 0.028"
      ]
     },
     "execution_count": 25,
     "metadata": {},
     "output_type": "execute_result"
    },
    {
     "data": {
      "text/html": [
       "<table>\n",
       "<thead><tr><th></th><th scope=col>U</th><th scope=col>probs</th></tr></thead>\n",
       "<tbody>\n",
       "\t<tr><th scope=row>1</th><td>1</td><td>0.02777778</td></tr>\n",
       "\t<tr><th scope=row>2</th><td>2</td><td>0.08333333</td></tr>\n",
       "\t<tr><th scope=row>3</th><td>3</td><td>0.1388889</td></tr>\n",
       "\t<tr><th scope=row>4</th><td>4</td><td>0.1944444</td></tr>\n",
       "\t<tr><th scope=row>5</th><td>5</td><td>0.25</td></tr>\n",
       "\t<tr><th scope=row>6</th><td>6</td><td>0.3055556</td></tr>\n",
       "</tbody>\n",
       "</table>\n"
      ],
      "text/latex": [
       "\\begin{tabular}{r|ll}\n",
       "  & U & probs\\\\\n",
       "\\hline\n",
       "\t1 & 1 & 0.02777778\\\\\n",
       "\t2 & 2 & 0.08333333\\\\\n",
       "\t3 & 3 & 0.1388889\\\\\n",
       "\t4 & 4 & 0.1944444\\\\\n",
       "\t5 & 5 & 0.25\\\\\n",
       "\t6 & 6 & 0.3055556\\\\\n",
       "\\end{tabular}\n"
      ],
      "text/plain": [
       "  U      probs\n",
       "1 1 0.02777778\n",
       "2 2 0.08333333\n",
       "3 3 0.13888889\n",
       "4 4 0.19444444\n",
       "5 5 0.25000000\n",
       "6 6 0.30555556"
      ]
     },
     "execution_count": 25,
     "metadata": {},
     "output_type": "execute_result"
    }
   ],
   "source": [
    "S <- rolldie(2, makespace = TRUE)\n",
    "S <- addrv(S, FUN = max, invars = c(\"X1\", \"X2\"), name = \"U\")\n",
    "S <- addrv(S, FUN = sum, invars = c(\"X1\", \"X2\"), name = \"V\")\n",
    "head(S)\n",
    "\n",
    "UV <- marginal(S, vars = c(\"U\", \"V\"))\n",
    "xtabs(round(probs, 3) ~ U + V, data = UV)\n",
    "\n",
    "marginal(UV, vars = \"U\")"
   ]
  },
  {
   "cell_type": "code",
   "execution_count": null,
   "metadata": {
    "collapsed": true
   },
   "outputs": [],
   "source": []
  },
  {
   "cell_type": "code",
   "execution_count": null,
   "metadata": {
    "collapsed": true
   },
   "outputs": [],
   "source": []
  }
 ],
 "metadata": {
  "kernelspec": {
   "display_name": "R",
   "language": "R",
   "name": "ir"
  },
  "language_info": {
   "codemirror_mode": "r",
   "file_extension": ".r",
   "mimetype": "text/x-r-source",
   "name": "R",
   "pygments_lexer": "r",
   "version": "3.2.3"
  }
 },
 "nbformat": 4,
 "nbformat_minor": 0
}
